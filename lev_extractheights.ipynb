{
 "cells": [
  {
   "cell_type": "code",
   "execution_count": null,
   "metadata": {},
   "outputs": [],
   "source": [
    "#Levitation height distribution extraction analysis\n",
    "#Last updated 4 March 2021.\n",
    "#Author: Shreya Deshmukh, Stanford University.\n",
    "\n",
    "#Runs as a jupyter notebook through anaconda (on python version 2.7)\n",
    "\n",
    "#Import the following libraries\n",
    "from os import listdir\n",
    "from os.path import join\n",
    "import numpy as np\n",
    "import scipy.misc\n",
    "from scipy import ndimage\n",
    "\n",
    "from scipy import stats\n",
    "from scipy.stats import moment, mode\n",
    "import csv\n",
    "import matplotlib.pyplot as plt\n",
    "import cv2\n",
    "import os.path\n",
    "from PIL import Image\n",
    "import skimage\n",
    "from skimage.transform import resize\n",
    "from scipy.signal import savgol_filter\n",
    "%matplotlib inline\n",
    "\n",
    "#Define file path\n",
    "#path = 'C:\\\\Users\\\\yourefiledirectories' #input the file path to where images are stored in the directory"
   ]
  },
  {
   "cell_type": "code",
   "execution_count": null,
   "metadata": {},
   "outputs": [],
   "source": [
    "img_title = \"Snap-153_c1\"\n",
    "\n",
    "#Import image as RGB\n",
    "img_bf = cv2.imread(os.path.join(path, img_title + \".tif\")) \n",
    "\n",
    "#Convert from RGB to grey using OpenCV inbuilt command -brightfield\n",
    "grey = cv2.cvtColor(img_bf, cv2.COLOR_BGR2GRAY)\n",
    "plt.figure(figsize = (4,4))\n",
    "plt.imshow(grey, cmap = plt.get_cmap('gray'))"
   ]
  },
  {
   "cell_type": "code",
   "execution_count": null,
   "metadata": {
    "scrolled": false
   },
   "outputs": [],
   "source": [
    "#Rotate image to parallel using scipy ndimage if needed (0 if already parallel)\n",
    "rot_ang = 0 #degrees of rotation\n",
    "\n",
    "rot = ndimage.rotate(grey, rot_ang)\n",
    "plt.figure(figsize = (8,8))\n",
    "plt.imshow(rot, cmap = plt.get_cmap('gray'))"
   ]
  },
  {
   "cell_type": "code",
   "execution_count": null,
   "metadata": {
    "scrolled": true
   },
   "outputs": [],
   "source": [
    "#Crop image to channel dimensions (removing extra space on top and bottom)\n",
    "#Crop vertically using user-selected channel wall coordinates (depending on how the device was positioned for that image)\n",
    "\n",
    "cropr_t = 80 #top\n",
    "cropr_b = 740 #bottom; keep a difference of 660\n",
    "cropc_l = 200 #left\n",
    "cropc_r = 1200 #right\n",
    "        \n",
    "crop = rot[cropr_t:cropr_b,cropc_l:cropc_r]\n",
    "\n",
    "#Stretch factor (double pixels vertically and horizontally) applied to old microscope's images due to their smaller dimensions\n",
    "resized = skimage.transform.resize(crop, (int((cropr_b-cropr_t)*1.25),1267)) #for old microscope\n",
    "#resized = skimage.transform.resize(crop, (int((cropr_b-cropr_t)*0.925),1689)) #for new microscope\n",
    "\n",
    "#Pixels in the image approximately correspond to microns in the device dimensions after image adjustment to account for different microscope cameras.\n",
    "\n",
    "plt.figure(figsize = (10,10))\n",
    "plt.imshow(resized, cmap = plt.get_cmap('gray'))"
   ]
  },
  {
   "cell_type": "code",
   "execution_count": null,
   "metadata": {},
   "outputs": [],
   "source": [
    "#Apply Gaussian smoothing \n",
    "blur = cv2.GaussianBlur(resized, (3,3), 2.7, 2.7)\n",
    "\n",
    "from scipy.misc import bytescale\n",
    "blur8 = bytescale(blur)\n",
    "plt.figure(figsize = (8,8))\n",
    "plt.imshow(blur8, cmap = plt.get_cmap('gray')) \n",
    "\n",
    "#Apply Laplacian filter \n",
    "smooth  = cv2.Laplacian(blur8, 8)\n",
    "plt.figure(figsize = (8,8))\n",
    "plt.imshow(smooth, cmap = plt.get_cmap('gray')) \n",
    "\n",
    "#Binarise using Otsu's thresholding -brightfield\n",
    "ret,th = cv2.threshold(smooth,0,1,cv2.THRESH_OTSU) #with Otsu's method, pos 2 is an arbitrary float (default: 0), pos 3 is the max value desired in output (1), pos 4 selects the thresholding fcn\n",
    "#print ret\n",
    "\n",
    "plt.figure(figsize = (12,12))\n",
    "plt.imshow(th, cmap = plt.get_cmap('gray')) \n",
    "\n",
    "cropper=5 #remove edge of image where binarisation adds a contrasting border artifact\n",
    "plt.figure(figsize = (12,12))\n",
    "plt.imshow(th[0:th.shape[0]-cropper,0:th.shape[1]-cropper], cmap = plt.get_cmap('gray'))"
   ]
  },
  {
   "cell_type": "code",
   "execution_count": null,
   "metadata": {},
   "outputs": [],
   "source": [
    "#Sum intensity values for each row (across the columns)\n",
    "\n",
    "#BRIGHTFIELD\n",
    "n_rowsb = th.shape[0]-cropper\n",
    "intmatb = np.empty((n_rowsb,1))\n",
    "for i in range(0,n_rowsb):\n",
    "    intmatb[i] = sum(th[i,0:th.shape[1]-cropper])\n",
    "    \n",
    "#Background noise subtraction\n",
    "p_intmat = intmatb\n",
    "\n",
    "p_intmat[0:2]=0 #removing border artifact\n",
    "\n",
    "#Pad 100 on bottom, and approx. 100 on top (very bottom and top of the capillary is obscured due to refraction at the glass interfact)\n",
    "p_intmatpad = np.pad(p_intmat, [(0, int(0.5*(1000-th.shape[0]))+cropper), (0, 0)], mode='constant', constant_values=0)\n",
    "\n",
    "rev_intmatb = p_intmatpad[::-1]\n",
    "\n",
    "#Pad top with zeros (approx. 100) to finalise array height to 1000\n",
    "xp_bf = np.pad(rev_intmatb, [(0, 1000-rev_intmatb.shape[0]), (0, 0)], mode='constant', constant_values=0)"
   ]
  },
  {
   "cell_type": "code",
   "execution_count": null,
   "metadata": {},
   "outputs": [],
   "source": [
    "#Plot the height distribution (sanity check)\n",
    "plt.figure(figsize=(4,4))\n",
    "plt.plot(range(0,xp_bf.shape[0]), xp_bf, markersize=2, label = \"Brightfield\")\n",
    "plt.legend()\n",
    "\n",
    "plt.ylabel('Number of cell-positive pixels', fontsize=18)\n",
    "plt.xlabel('Levitation height (${\\mu}m$)', fontsize=18)\n"
   ]
  },
  {
   "cell_type": "code",
   "execution_count": null,
   "metadata": {
    "scrolled": true
   },
   "outputs": [],
   "source": [
    "print sum(xp_bf)\n",
    "\n",
    "#Prepare height distribution for extraction of statistical moments\n",
    "hts = xp_bf \n",
    "\n",
    "#Compute statistical metrics for the distribution (mean, variance, skewness, kurtosis)\n",
    "data_arr = hts\n",
    "\n",
    "#Statistical analysis of heights\n",
    "multilist = [None]*data_arr.shape[1] #prepare empty list\n",
    "\n",
    "#Loop through each height distribution\n",
    "for i in range(0,data_arr.shape[1]):\n",
    "    hlist = []\n",
    "    count = 1\n",
    "    heights = data_arr[:,i]\n",
    "    for h in heights:\n",
    "        hlist = hlist + [count]*int(h)\n",
    "        count = count+1\n",
    "    multilist[i]=hlist\n",
    "    \n",
    "#Store statistical descriptors of these height distributions: columns are different sample types;\n",
    "#Rows: mean, variance, skewness, kurtosis, standard deviation, median, mode\n",
    "multistat = np.empty([4,data_arr.shape[1]])\n",
    "for i in range(0,data_arr.shape[1]):\n",
    "    multistat[:,i] = [np.mean(multilist[i]), np.var(multilist[i]), moment(multilist[i],moment=3), moment(multilist[i],moment=4)] #, np.sqrt(np.var(jlist)), np.median(jlist)]\n",
    "\n",
    "print multistat"
   ]
  },
  {
   "cell_type": "code",
   "execution_count": null,
   "metadata": {},
   "outputs": [],
   "source": [
    "# Plot the brightfield cell height distribution\n",
    "\n",
    "#Smoothing with Savitzky-Golay filter\n",
    "hts_smooth = savgol_filter(hts[:,0], 87, 4) # window size, polynomial order\n",
    "\n",
    "#Plot smoothed curve on top of raw data\n",
    "plt.figure(figsize=(6,9))\n",
    "plt.plot(hts[:,0], range(0,1000), markersize=2, label = \"Brightfield\")\n",
    "plt.plot(hts_smooth, range(0,1000), markersize=2, label = \"Brightfield, smoothed\")\n",
    "plt.xlabel('Number of cell-positive pixels', fontsize=15)\n",
    "plt.ylabel('Levitation height (${\\mu}m$)', fontsize=15)\n",
    "plt.legend(fontsize=12)"
   ]
  },
  {
   "cell_type": "code",
   "execution_count": null,
   "metadata": {},
   "outputs": [],
   "source": [
    "#Save all variables into a csv file\n",
    "stack = np.column_stack((hts1, hts2, hts3, hts4))\n",
    "np.savetxt('yourfilename.csv', stack, delimiter = \",\") "
   ]
  },
  {
   "cell_type": "code",
   "execution_count": null,
   "metadata": {},
   "outputs": [],
   "source": [
    "#Load saved data from CSV file\n",
    "hts_load = np.array(list(csv.reader(open(\"yourfilename.csv\", \"rb\"), delimiter=\",\"))).astype(\"float\")"
   ]
  }
 ],
 "metadata": {
  "kernelspec": {
   "display_name": "Python 3",
   "language": "python",
   "name": "python3"
  },
  "language_info": {
   "codemirror_mode": {
    "name": "ipython",
    "version": 3
   },
   "file_extension": ".py",
   "mimetype": "text/x-python",
   "name": "python",
   "nbconvert_exporter": "python",
   "pygments_lexer": "ipython3",
   "version": "3.7.6"
  }
 },
 "nbformat": 4,
 "nbformat_minor": 2
}
