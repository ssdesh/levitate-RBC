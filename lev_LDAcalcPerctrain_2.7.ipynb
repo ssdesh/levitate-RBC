{
 "cells": [
  {
   "cell_type": "code",
   "execution_count": 9,
   "metadata": {},
   "outputs": [],
   "source": [
    "#Levitation height distribution extraction analysis\n",
    "#Last updated 17 April 2021.\n",
    "#Author: Shreya Deshmukh, Stanford University.\n",
    "\n",
    "#Runs as a jupyter notebook through anaconda (on python version 2.7)\n",
    "\n",
    "#Import the following libraries\n",
    "import os\n",
    "from os import listdir\n",
    "from os.path import join\n",
    "import pandas as pd\n",
    "import numpy as np\n",
    "import matplotlib.pyplot as plt\n",
    "from sklearn.preprocessing import StandardScaler\n",
    "import matplotlib.pyplot as plt\n",
    "from matplotlib import style\n",
    "from sklearn.model_selection import train_test_split\n",
    "from sklearn.neighbors import KNeighborsClassifier\n",
    "from sklearn.discriminant_analysis import LinearDiscriminantAnalysis, QuadraticDiscriminantAnalysis\n",
    "from sklearn.covariance import OAS\n",
    "from sklearn.metrics import confusion_matrix, roc_curve, auc, accuracy_score\n",
    "import scipy\n",
    "from scipy import stats\n",
    "from scipy.stats import ranksums\n",
    "\n",
    "plt.rc('font',family='Arial')\n",
    "\n",
    "#Define file path\n",
    "#path = 'C:\\\\Users\\\\yourefiledirectories' #input the file path to where statistical metrics of height distributions are stored\n",
    "\n",
    "#os.listdir(path)"
   ]
  },
  {
   "cell_type": "code",
   "execution_count": 10,
   "metadata": {},
   "outputs": [
    {
     "name": "stdout",
     "output_type": "stream",
     "text": [
      "[[-1.83152216e-03]\n",
      " [-7.16489017e-06]\n",
      " [ 5.40766431e-07]\n",
      " [ 1.32285483e-08]]\n"
     ]
    }
   ],
   "source": [
    "#Load PBS (low medium density protocol) data, statistical metrics of all samples' height distributions\n",
    "df = pd.read_csv('C:\\Users\\SSD_Laptop\\Desktop\\SD-notebook\\Demirci\\Data -ring stage paper, by figure\\Fig. 4\\Fig. 4b_highdens.csv', sep=',', header=0, names =\n",
    "               ['labels','Mean','Variance','Skewness','Kurtosis'])\n",
    "    \n",
    "X_pre = df.iloc[:,1:5].copy() #features\n",
    "y = df.iloc[:,0].copy() #labels, where 0 refers to malaria-negative and 1 refers to malaria-positive\n",
    "\n",
    "sc = StandardScaler()\n",
    "#X = sc.fit_transform(X_pre)\n",
    "X = X_pre.values\n",
    "y = y.values\n",
    "\n",
    "X_train, X_test, y_train, y_test = train_test_split(X,y,test_size=0.3, random_state = 0) #split into training (70%) and test (30%) sets\n",
    "\n",
    "#Train Linear Discriminant Analysis (LDA) on training data\n",
    "LDA = LinearDiscriminantAnalysis(n_components=1, store_covariance=True, tol = 10**(-4), solver = 'svd') # projection in 1D space\n",
    "data_proj = LDA.fit_transform(X_train,y_train)\n",
    "\n",
    "scale = LDA.scalings_\n",
    "\n",
    "print scale"
   ]
  },
  {
   "cell_type": "code",
   "execution_count": 12,
   "metadata": {},
   "outputs": [],
   "source": [
    "#Fit LDA scoring to the training set\n",
    "Xarr =  X_train \n",
    "yarr = y_train \n",
    "\n",
    "#Loop through features and produce LDA scores\n",
    "scores0 = np.zeros((Xarr.shape[0],2))\n",
    "for i in range(Xarr.shape[0]):\n",
    "    m = Xarr[i,0]\n",
    "    v = Xarr[i,1]\n",
    "    s = Xarr[i,2]\n",
    "    k = Xarr[i,3]\n",
    "    scores0[i,0] = scale[0]*m + scale[1]*v + scale[2]*s + scale[3]*k\n",
    "\n",
    "scores0[:,1]=yarr"
   ]
  },
  {
   "cell_type": "code",
   "execution_count": 13,
   "metadata": {},
   "outputs": [],
   "source": [
    "#Fit LDA scoring to the testset\n",
    "Xarr =  X_test \n",
    "yarr = y_test\n",
    "\n",
    "#Loop through features and produce LDA scores\n",
    "scores1 = np.zeros((Xarr.shape[0],2))\n",
    "for i in range(Xarr.shape[0]):\n",
    "    m = Xarr[i,0]\n",
    "    v = Xarr[i,1]\n",
    "    s = Xarr[i,2]\n",
    "    k = Xarr[i,3]\n",
    "    scores1[i,0] = scale[0]*m + scale[1]*v + scale[2]*s + scale[3]*k\n",
    "\n",
    "scores1[:,1]=yarr"
   ]
  },
  {
   "cell_type": "code",
   "execution_count": 14,
   "metadata": {},
   "outputs": [],
   "source": [
    "#Sort from negative to positive labels\n",
    "scores0sort = scores0[scores0[:,1].argsort()] \n",
    "scores1sort = scores1[scores1[:,1].argsort()] "
   ]
  },
  {
   "cell_type": "code",
   "execution_count": 15,
   "metadata": {},
   "outputs": [
    {
     "name": "stdout",
     "output_type": "stream",
     "text": [
      "19 9.0\n"
     ]
    }
   ],
   "source": [
    "print scores0sort.shape[0], np.sum(scores0sort[:,1])"
   ]
  },
  {
   "cell_type": "code",
   "execution_count": 16,
   "metadata": {},
   "outputs": [
    {
     "name": "stdout",
     "output_type": "stream",
     "text": [
      "9 6.0\n"
     ]
    }
   ],
   "source": [
    "print scores1sort.shape[0], np.sum(scores1sort[:,1])"
   ]
  },
  {
   "cell_type": "code",
   "execution_count": 17,
   "metadata": {},
   "outputs": [],
   "source": [
    "#Save variables into a csv file\n",
    "yourfilename = str('LDAscorestrain_highdens')\n",
    "np.savetxt('{}\\{}.csv'.format(path,yourfilename), scores0sort, delimiter = \",\") \n",
    "\n",
    "#Save variables into a csv file\n",
    "yourfilename2 = str('LDAscoresttest_highdens')\n",
    "np.savetxt('{}\\{}.csv'.format(path,yourfilename2), scores1sort, delimiter = \",\") "
   ]
  },
  {
   "cell_type": "code",
   "execution_count": null,
   "metadata": {},
   "outputs": [],
   "source": []
  },
  {
   "cell_type": "code",
   "execution_count": null,
   "metadata": {},
   "outputs": [],
   "source": []
  },
  {
   "cell_type": "code",
   "execution_count": 18,
   "metadata": {},
   "outputs": [
    {
     "data": {
      "image/png": "[encoded data removed]",
      "text/plain": [
       "<Figure size 432x360 with 1 Axes>"
      ]
     },
     "metadata": {
      "needs_background": "light"
     },
     "output_type": "display_data"
    },
    {
     "name": "stdout",
     "output_type": "stream",
     "text": [
      "p-value, low dens: 0.004774764425659793\n",
      "Rank-sum test, low density: -3.347635981803677 0.0008150399118268963\n"
     ]
    }
   ],
   "source": [
    "#Plot & stats analysis of LDA scores\n",
    "#Train, high density\n",
    "n = 0\n",
    "\n",
    "#Load data\n",
    "dataPBS = scores0sort #np.loadtxt(r'C:\\Users\\SSD_Laptop\\Desktop\\SD-notebook\\Demirci\\Data -ring stage paper, by figure\\Fig. 4\\{}.csv'.format(yourfilename), delimiter=',', encoding='utf-8-sig')\n",
    "data_uPBS = np.array(dataPBS[0:10,n])\n",
    "data_iPBS = dataPBS[10:19,n]\n",
    "\n",
    "smallmarker = dict(markersize=3)\n",
    "\n",
    "\n",
    "#Plots\n",
    "PBS = np.zeros((2,10))\n",
    "PBS[0,0:10]=data_uPBS\n",
    "PBS[1,0:9]=data_iPBS\n",
    "PBS[ PBS==0 ] = np.nan\n",
    "\n",
    "\n",
    "#Plot 1 (low density medium)\n",
    "dataset = np.transpose(PBS)\n",
    "df = pd.DataFrame(dataset, columns=['Uninfected', 'Infected'])\n",
    "df.head()\n",
    "\n",
    "\n",
    "vals, names, xs = [],[],[]\n",
    "for i, col in enumerate(df.columns):\n",
    "    vals.append(df[col].values)\n",
    "    names.append(col)\n",
    "    xs.append(np.random.normal(i + 1, 0.04, df[col].values.shape[0]))  # adds jitter to the data points - can be adjusted\n",
    "\n",
    "\n",
    "plt.figure(figsize=(6,5))\n",
    "plt.boxplot((data_uPBS,data_iPBS), labels=names, widths=0.5)\n",
    "plt.xticks(fontsize=16, rotation=0)\n",
    "plt.yticks(fontsize=15, rotation=0)\n",
    "plt.ticklabel_format(style='sci', axis='y', scilimits=(0,3))\n",
    "plt.ylim([-5,5])\n",
    "plt.ylabel('LDA score', fontname='Arial', fontsize = 18)\n",
    "palette = ['blue', 'red']\n",
    "for x, val, c in zip(xs, vals, palette):\n",
    "    plt.scatter(x, val, alpha=0.4, s=80, color=c)\n",
    "plt.show()\n",
    "\n",
    "\n",
    "    \n",
    "#Welch's t-test on sample distribution\n",
    "vals_arr = np.transpose(np.array([vals]))\n",
    "t, prob = scipy.stats.ttest_ind(data_uPBS,data_iPBS, equal_var=True)\n",
    "print 'p-value, low dens:', prob \n",
    "\n",
    "#Wilcoxon's rank-sum test\n",
    "s,p = ranksums(data_uPBS, data_iPBS)\n",
    "print \"Rank-sum test, low density:\", s,p\n"
   ]
  },
  {
   "cell_type": "code",
   "execution_count": 19,
   "metadata": {},
   "outputs": [
    {
     "data": {
      "image/png": "[encoded data removed]",
      "text/plain": [
       "<Figure size 432x360 with 1 Axes>"
      ]
     },
     "metadata": {
      "needs_background": "light"
     },
     "output_type": "display_data"
    },
    {
     "name": "stdout",
     "output_type": "stream",
     "text": [
      "p-value, low dens: 0.4148039394467471\n",
      "Rank-sum test, low density: -0.7745966692414834 0.4385780260809998\n"
     ]
    }
   ],
   "source": [
    "#Plot & stats analysis of LDA scores\n",
    "#Test, high density\n",
    "n = 0\n",
    "\n",
    "#Load data\n",
    "dataPBS = scores1sort #np.loadtxt(r'C:\\Users\\SSD_Laptop\\Desktop\\SD-notebook\\Demirci\\Data -ring stage paper, by figure\\Fig. 4\\{}.csv'.format(yourfilename), delimiter=',', encoding='utf-8-sig')\n",
    "data_uPBS = np.array(dataPBS[0:3,n])\n",
    "data_iPBS = dataPBS[3:9,n]\n",
    "\n",
    "smallmarker = dict(markersize=3)\n",
    "\n",
    "\n",
    "#Plots\n",
    "PBS = np.zeros((2,6))\n",
    "PBS[0,0:3]=data_uPBS\n",
    "PBS[1,:]=data_iPBS\n",
    "PBS[ PBS==0 ] = np.nan\n",
    "\n",
    "\n",
    "#Plot 1 (low density medium)\n",
    "dataset = np.transpose(PBS)\n",
    "df = pd.DataFrame(dataset, columns=['Uninfected', 'Infected'])\n",
    "df.head()\n",
    "\n",
    "\n",
    "vals, names, xs = [],[],[]\n",
    "for i, col in enumerate(df.columns):\n",
    "    vals.append(df[col].values)\n",
    "    names.append(col)\n",
    "    xs.append(np.random.normal(i + 1, 0.04, df[col].values.shape[0]))  # adds jitter to the data points - can be adjusted\n",
    "\n",
    "\n",
    "plt.figure(figsize=(6,5))\n",
    "plt.boxplot((data_uPBS,data_iPBS), labels=names, widths=0.5)\n",
    "plt.xticks(fontsize=16, rotation=0)\n",
    "plt.yticks(fontsize=15, rotation=0)\n",
    "plt.ticklabel_format(style='sci', axis='y', scilimits=(0,3))\n",
    "plt.ylim([-5,5])\n",
    "plt.ylabel('LDA score', fontname='Arial', fontsize = 18)\n",
    "palette = ['blue', 'red']\n",
    "for x, val, c in zip(xs, vals, palette):\n",
    "    plt.scatter(x, val, alpha=0.4, s=80, color=c)\n",
    "plt.show()\n",
    "\n",
    "\n",
    "    \n",
    "#Welch's t-test on sample distribution\n",
    "vals_arr = np.transpose(np.array([vals]))\n",
    "t, prob = scipy.stats.ttest_ind(data_uPBS,data_iPBS, equal_var=True)\n",
    "print 'p-value, low dens:', prob \n",
    "\n",
    "#Wilcoxon's rank-sum test\n",
    "s,p = ranksums(data_uPBS, data_iPBS)\n",
    "print \"Rank-sum test, low density:\", s,p\n"
   ]
  },
  {
   "cell_type": "code",
   "execution_count": 20,
   "metadata": {},
   "outputs": [
    {
     "name": "stdout",
     "output_type": "stream",
     "text": [
      "[[-1.83152216e-03]\n",
      " [-7.16489017e-06]\n",
      " [ 5.40766431e-07]\n",
      " [ 1.32285483e-08]]\n"
     ]
    }
   ],
   "source": [
    "print scale"
   ]
  },
  {
   "cell_type": "code",
   "execution_count": null,
   "metadata": {},
   "outputs": [],
   "source": []
  }
 ],
 "metadata": {
  "kernelspec": {
   "display_name": "Python 2",
   "language": "python",
   "name": "python2"
  },
  "language_info": {
   "codemirror_mode": {
    "name": "ipython",
    "version": 2
   },
   "file_extension": ".py",
   "mimetype": "text/x-python",
   "name": "python",
   "nbconvert_exporter": "python",
   "pygments_lexer": "ipython2",
   "version": "2.7.15"
  }
 },
 "nbformat": 4,
 "nbformat_minor": 2
}
